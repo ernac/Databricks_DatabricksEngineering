{
 "cells": [
  {
   "cell_type": "markdown",
   "metadata": {
    "application/vnd.databricks.v1+cell": {
     "cellMetadata": {},
     "inputWidgets": {},
     "nuid": "f0bc81f0-c89f-4489-8276-c95da393b417",
     "showTitle": false,
     "tableResultSettingsMap": {},
     "title": ""
    }
   },
   "source": [
    "# USING DATABRICKS FOR DATA ENGINEERING\n",
    "## Module Introduction"
   ]
  },
  {
   "cell_type": "markdown",
   "metadata": {
    "application/vnd.databricks.v1+cell": {
     "cellMetadata": {},
     "inputWidgets": {},
     "nuid": "fc7a4870-4c90-475f-926e-0939968b478a",
     "showTitle": false,
     "tableResultSettingsMap": {},
     "title": ""
    }
   },
   "source": [
    "# Learning Objectives\n",
    "- Describe the primary responsibilities and core skills of a data engineer \n",
    "- Explain the stages of a traditional data engineering architecture, from data ingestion to processing, storage, and consumption\n",
    "- Define the core components of the Databricks Lakeflow offering and describe how it benefits data engineering practitioners\n",
    "- Describe the benefits of Delta Lake and Delta tables in the Databricks Data Intelligence Platform\n",
    "- List the available data ingestion techniques in the Databricks Data Intelligence Platform"
   ]
  },
  {
   "cell_type": "markdown",
   "metadata": {
    "application/vnd.databricks.v1+cell": {
     "cellMetadata": {},
     "inputWidgets": {},
     "nuid": "ee61063a-3007-4dc0-b806-67097cf30b33",
     "showTitle": false,
     "tableResultSettingsMap": {},
     "title": ""
    }
   },
   "source": [
    "# Learning Objectives\n",
    "- Explain the puporse of the Medallion Architecture for data transformation\n",
    "- Describe how Lakeflow Jobs and Lakeflow Declarative Pipelines work to create a unified orchestration offering within the plataform\n"
   ]
  },
  {
   "cell_type": "markdown",
   "metadata": {
    "application/vnd.databricks.v1+cell": {
     "cellMetadata": {},
     "inputWidgets": {},
     "nuid": "980f4018-fc63-4596-bb12-20326cab0406",
     "showTitle": false,
     "tableResultSettingsMap": {},
     "title": ""
    }
   },
   "source": [
    "|USING DATABRICKS FOR DATA ENGINEERING (PART 1) |TIME |LECTURE |DEMO |LAB|\n",
    "|---|---|---|---|---|\n",
    "|Introduction to Data Engineering|6 mins| x | | |\n",
    "|Lakeflow Overview|2 mins| x | | |\n",
    "|Delta Lake Overview|7 mins| x | | |\n",
    "|Creating and Working with a Delta Table|22 mins| | x | |\n",
    "|Lakeflow Connect Ingestion Techniques Overview|3 mins| x | | |\n",
    "|Ingesting Data into Delta Lake|18 mins| | x | |\n"
   ]
  },
  {
   "cell_type": "markdown",
   "metadata": {
    "application/vnd.databricks.v1+cell": {
     "cellMetadata": {},
     "inputWidgets": {},
     "nuid": "d11feb2c-9aff-4c6c-b99a-5697563958b3",
     "showTitle": false,
     "tableResultSettingsMap": {},
     "title": ""
    }
   },
   "source": [
    "|USING DATABRICKS FOR DATA ENGINEERING (PART 2) |TIME |LECTURE |DEMO |LAB|\n",
    "|---|---|---|---|---|\n",
    "|Data Transformation Overview|6 mins| x |  |  |\n",
    "|Transforming Data Using the Medallion Architecture|13 mins|  | x |  |\n",
    "|Performing ETL with Lakeflow Declarative Pipelines|2 mins| x |  |  |\n",
    "|Unified Orchestration Using Lakeflow Jobs|2 mins| x |  |  |\n",
    "|Creating a Simple Databricks Lakeflow Job|14 mins|  | x |  |\n",
    "|Ingest and Manipulate a Delta Table Lab|25 mins|  |  | x |"
   ]
  },
  {
   "cell_type": "markdown",
   "metadata": {
    "application/vnd.databricks.v1+cell": {
     "cellMetadata": {},
     "inputWidgets": {},
     "nuid": "5587a0dc-0ed4-4ee1-829a-38220d3d4abb",
     "showTitle": false,
     "tableResultSettingsMap": {},
     "title": ""
    }
   },
   "source": [
    "# INTRODUCTION TO DATA ENGINEERING\n",
    "\n",
    "## KEY RESPONSSABILITIES\n",
    "\n",
    "### TRANSFORMING RAW DATA TOE CLEAN, RELIABLE DATA\n",
    "- Data extraction from diverse sources\n",
    "- Cleasing to remove erros and inconsistencies\n",
    "- Data transformation to convert it to a structured and usable format for consumers\n",
    "\n",
    "## ENSURING THE QUALITY AND INTEGRITY OF DATA \n",
    "- Develop processes to monitor and maintain data accuracy, consistency, and reliability.\n",
    "- Keeps the data trustworthy and dependable.\n",
    "\n",
    "## DESIGN, BUILD, AND MAINTAIN DATA PIPELINES\n",
    "- Pathways through which data flows from various sources to our storage systems and analytical tools.\n",
    "- Create, optimize and automate these pipelines.\n"
   ]
  },
  {
   "cell_type": "markdown",
   "metadata": {
    "application/vnd.databricks.v1+cell": {
     "cellMetadata": {},
     "inputWidgets": {},
     "nuid": "3365d94c-c0b1-494f-8502-78f99d364293",
     "showTitle": false,
     "tableResultSettingsMap": {},
     "title": ""
    }
   },
   "source": [
    "> Organizations typically use a variety of technology stacks to manage the data engineering process, wihich introduces several challenges.\n",
    "\n"
   ]
  },
  {
   "cell_type": "markdown",
   "metadata": {
    "application/vnd.databricks.v1+cell": {
     "cellMetadata": {},
     "inputWidgets": {},
     "nuid": "e62b91db-638f-4777-a2c1-214d11f56cee",
     "showTitle": false,
     "tableResultSettingsMap": {},
     "title": ""
    }
   },
   "source": [
    "## COMMON CHALLENGES\n",
    "\n",
    "### COMPLEX DATA INGESTION METHOS\n",
    "\n",
    "- Streaming ingestion\n",
    "- Manual tracking of files for ingestion\n",
    "- Managing error prone ingestion tasks\n",
    "\n",
    "### SUPPORTING KEY DATA PRINCIPLES\n",
    "\n",
    "- Agile development, CI/CD, and version control\n",
    "- Isolated development and production environments\n"
   ]
  }
 ],
 "metadata": {
  "application/vnd.databricks.v1+notebook": {
   "computePreferences": null,
   "dashboards": [],
   "environmentMetadata": {
    "base_environment": "",
    "environment_version": "4"
   },
   "inputWidgetPreferences": null,
   "language": "python",
   "notebookMetadata": {
    "pythonIndentUnit": 4
   },
   "notebookName": "GetStartedWithDatabricksEngineering_DbforEngineering_02_12",
   "widgets": {}
  },
  "language_info": {
   "name": "python"
  }
 },
 "nbformat": 4,
 "nbformat_minor": 0
}