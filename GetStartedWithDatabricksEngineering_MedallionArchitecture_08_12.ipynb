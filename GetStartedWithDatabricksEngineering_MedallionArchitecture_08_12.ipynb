{
 "cells": [
  {
   "cell_type": "markdown",
   "metadata": {
    "application/vnd.databricks.v1+cell": {
     "cellMetadata": {},
     "inputWidgets": {},
     "nuid": "8dd45e35-ea34-4620-8414-6916ffd1fc0d",
     "showTitle": false,
     "tableResultSettingsMap": {},
     "title": ""
    }
   },
   "source": [
    "# OVERVIEW OF THE MEDALLION ARCHITECTURE\n",
    "---\n",
    "> The Medallion Architecture is a simple and popular data design pattern used in Databricks to logically organize data in your lakehouse.\n",
    "\n",
    "Think of it as a data quality factory. Its main job is to take data that is \"raw and dirty\" and progressively transform it into \"clean and aggregated\" data that is reliable and easy to use for business analysis.\n",
    "\n",
    "This \"factory\" has three distinct quality layers, named after medals: Bronze, Silver, and Gold."
   ]
  },
  {
   "cell_type": "markdown",
   "metadata": {
    "application/vnd.databricks.v1+cell": {
     "cellMetadata": {},
     "inputWidgets": {},
     "nuid": "266ada5f-5c2a-44b4-b553-98d73081f7d0",
     "showTitle": false,
     "tableResultSettingsMap": {},
     "title": ""
    }
   },
   "source": [
    "\n",
    "# ⛏️ BRONZE LAYER (THE RAW DATA)\n",
    "--- \n",
    "## WHAT IT IS\n",
    "> This is the first stop for all data entering your lakehouse. The Bronze layer is a \"landing zone\" where you dump raw data from all your external source systems (like databases, application APIs, CSV/Excel uploads, etc.).\n",
    "\n",
    "The Golden Rule: The data in the Bronze layer should be an exact, unaltered copy of the source data. You do not clean, filter, or change anything.\n",
    "\n",
    "## KEY CHARACTERISTICS\n",
    "**STATE:** Raw, messy, \"dirty.\"\n",
    "\n",
    "**PURPOSE:** To be a historical archive or \"staging area.\" If there is ever a problem in your downstream tables (Silver or Gold), you can always rebuild them by re-running your code on the raw Bronze data, without having to ask the source system for the data again.\n",
    "\n",
    "**EXAMPLE (Code):** This is exactly what your COPY INTO command did in our earlier steps. It took a raw CSV file and landed it in a Delta table. That table is a perfect Bronze table."
   ]
  },
  {
   "cell_type": "markdown",
   "metadata": {
    "application/vnd.databricks.v1+cell": {
     "cellMetadata": {},
     "inputWidgets": {},
     "nuid": "1442f8bb-e6f7-4d02-a5ae-bc139b372081",
     "showTitle": false,
     "tableResultSettingsMap": {},
     "title": ""
    }
   },
   "source": [
    "# \uD83E\uDD48 SILVER LAYER (THE CLEANED DATA)\n",
    "---\n",
    "## WHAT IT IS\n",
    ">This is the \"single source of truth\" for the business. This is where the real data transformation happens. You write code (SQL or Python) to read from the Bronze layer(s) and apply all your business rules.\n",
    "\n",
    "**The Golden Rule:** Data in the Silver layer must be validated, cleaned, and consistent. It should be \"query-ready\" for your data analysts.\n",
    "\n",
    "## KEY CHARACTERISTICS\n",
    "**STATE:** Cleaned, validated, deduplicated, and standardized.\n",
    "\n",
    "### TRANSFORMATIONS (ETL):\n",
    "\n",
    "- **Filtering:** Removing records with null or bad values (e.g., price_usd = 0).\n",
    "- **Data Types:** Enforcing correct schemas (e.g., casting year from STRING to INT).\n",
    "- **Joining:** Merging tables (e.g., joining your bmw_sales table with a customer_info table).\n",
    "- **Deduplication:** Removing duplicate records.\n",
    "\n",
    "**PURPOSE:** To provide a reliable, query-ready source for all major business entities (e.g., a \"master sales table\" or \"master customer table\")."
   ]
  },
  {
   "cell_type": "markdown",
   "metadata": {
    "application/vnd.databricks.v1+cell": {
     "cellMetadata": {},
     "inputWidgets": {},
     "nuid": "7bdde615-7140-4105-a349-675640113227",
     "showTitle": false,
     "tableResultSettingsMap": {},
     "title": ""
    }
   },
   "source": [
    "# \uD83E\uDD47 GOLD LAYER (THE BUSINESS-READY DATA)\n",
    "---\n",
    "## WHAT IT IS\n",
    "> This is the final, highly polished layer. Gold tables are not for general exploration; they are built for a specific purpose and are ready for final consumption.\n",
    "\n",
    "**The Golden Rule:** Data in the Gold layer is aggregated and optimized for performance. It should directly answer a specific business question.\n",
    "\n",
    "## KEY CHARACTERISTICS\n",
    "**STATE:** Aggregated, summarized, and pre-computed.\n",
    "\n",
    "### TRANSFORMATIONS (AGGREGATION):\n",
    "\n",
    "- **Summarizing:** Using GROUP BY to calculate metrics (e.g., SUM(price_usd) BY region, year).\n",
    "- **Business Logic:** Calculating complex metrics like \"year-over-year growth\" or \"total market share.\"\n",
    "\n",
    "**PURPOSE:** To directly power Business Intelligence (BI) dashboards (like in Power BI or Tableau) or to serve as a \"feature table\" for a machine learning model. An analyst should be able to query a Gold table without writing any complex joins or logic."
   ]
  },
  {
   "cell_type": "markdown",
   "metadata": {
    "application/vnd.databricks.v1+cell": {
     "cellMetadata": {},
     "inputWidgets": {},
     "nuid": "77edce3a-2ad1-4373-a4b2-8867f5bee0ac",
     "showTitle": false,
     "tableResultSettingsMap": {},
     "title": ""
    }
   },
   "source": [
    "# WHY USE THIS? (SUMMARY)\n",
    "- **RELIABILITY:** You always know where to find data of a certain quality.\n",
    "- **DEBUGGING:** If a dashboard is wrong (Gold), you can easily check the Silver table. If the Silver table is wrong, you check the Bronze table. It's easy to find where a mistake was introduced.\n",
    "\n",
    "- **REUSABILITY:** The Silver layer is a shared \"source of truth\" that can be used to build many different Gold tables without re-cleaning the data every time."
   ]
  }
 ],
 "metadata": {
  "application/vnd.databricks.v1+notebook": {
   "computePreferences": null,
   "dashboards": [],
   "environmentMetadata": {
    "base_environment": "",
    "environment_version": "4"
   },
   "inputWidgetPreferences": null,
   "language": "python",
   "notebookMetadata": {
    "pythonIndentUnit": 4
   },
   "notebookName": "GetStartedWithDatabricksEngineering_MedallionArchitecture_08_12",
   "widgets": {}
  },
  "language_info": {
   "name": "python"
  }
 },
 "nbformat": 4,
 "nbformat_minor": 0
}