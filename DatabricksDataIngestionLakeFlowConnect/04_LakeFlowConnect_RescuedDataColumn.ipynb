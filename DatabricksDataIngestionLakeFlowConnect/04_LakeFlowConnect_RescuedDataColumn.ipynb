{
 "cells": [
  {
   "cell_type": "markdown",
   "id": "233eae3a",
   "metadata": {},
   "source": [
    "# RESCUED DATA COLUMN\n",
    "\n",
    "> NOTE: This feature is supported in Databricks Runtime 8.2 (EoS) and above.\n",
    "\n",
    "The rescued data column ensures that you never lose or miss out on data during ETL. \n",
    "\n",
    "The rescued data column contains any data that wasn't parsed, either because it was missing from the given schema, or because there was a type mismatch, or because the casing of the column in the record or file didn't match with that in the schema.\n",
    "\n",
    "- The rescued data column is returned as a JSON blob containing the columns that were rescued, and the source file path of the record."
   ]
  },
  {
   "cell_type": "markdown",
   "id": "e3e53019",
   "metadata": {},
   "source": [
    "The JSON parser supports three modes when parsing records: `PERMISSIVE, DROPMALFORMED, and FAILFAST`. \n",
    "\n",
    "- When used together with rescuedDataColumn, data type mismatches do not cause records to be dropped in DROPMALFORMED mode or throw an error in FAILFAST mode. \n",
    "\n",
    "- Only corrupt records—that is, incomplete or malformed JSON—are dropped or throw errors. \n",
    "\n",
    "- If you use the option badRecordsPath when parsing JSON, data type mismatches are not considered as bad records when using the rescuedDataColumn. Only incomplete and malformed JSON records are stored in badRecordsPath."
   ]
  }
 ],
 "metadata": {
  "language_info": {
   "name": "python"
  }
 },
 "nbformat": 4,
 "nbformat_minor": 5
}
