{
 "cells": [
  {
   "cell_type": "markdown",
   "metadata": {
    "application/vnd.databricks.v1+cell": {
     "cellMetadata": {},
     "inputWidgets": {},
     "nuid": "3bbdf5df-0b0c-43e9-b914-f488ca2661ca",
     "showTitle": false,
     "tableResultSettingsMap": {},
     "title": ""
    }
   },
   "source": [
    "# DELTA LAKE LAKEFLOW CONNECT TECHNIQUES\n",
    "> The ways you ingest data in Databricks\n",
    "\n",
    "- Create table\n",
    "- Upload UI\n",
    "- copy into\n",
    "- Auto loader\n"
   ]
  },
  {
   "cell_type": "markdown",
   "metadata": {
    "application/vnd.databricks.v1+cell": {
     "cellMetadata": {},
     "inputWidgets": {},
     "nuid": "a599bafe-3c34-4744-9271-e9a161f3107b",
     "showTitle": false,
     "tableResultSettingsMap": {},
     "title": ""
    }
   },
   "source": [
    "## CREATE TABLE STATEMENT - CTAS\n",
    "---\n",
    "> Creates a table by selectin data from an existing table or data source\n",
    "- Default table formart is **DELTA**."
   ]
  },
  {
   "cell_type": "markdown",
   "metadata": {
    "application/vnd.databricks.v1+cell": {
     "cellMetadata": {},
     "inputWidgets": {},
     "nuid": "4a3e9149-076a-4ba0-9d32-d8d7bfd7dc6f",
     "showTitle": false,
     "tableResultSettingsMap": {},
     "title": ""
    }
   },
   "source": [
    "## UPLOAD UI\n",
    "---\n",
    "> A point-and-click interface to upload files and create tables.\n",
    "\n",
    "- Formats allowed: _CSV, TSV, JSON, Avro, Parquet, or text files_.\n",
    "- The UI also enables you to upload files **directlty to a Unit Catalog Volume.**"
   ]
  },
  {
   "cell_type": "markdown",
   "metadata": {
    "application/vnd.databricks.v1+cell": {
     "cellMetadata": {},
     "inputWidgets": {},
     "nuid": "e3909857-5c8f-4e4a-8abc-e3f1c6c5f5ee",
     "showTitle": false,
     "tableResultSettingsMap": {},
     "title": ""
    }
   },
   "source": [
    "## COPY INTO STATEMENT - CIAS\n",
    "- Load files from a file location into a Delta table\n",
    "- Support varios file formats and cloud storage locations\n",
    "- Automatically can hand schema changes\n",
    "- Idempotent operation - Already-loaded files in the soource are skipped."
   ]
  },
  {
   "cell_type": "markdown",
   "metadata": {
    "application/vnd.databricks.v1+cell": {
     "cellMetadata": {},
     "inputWidgets": {},
     "nuid": "e6a383bb-9ea8-4bc0-81df-5e7180f1e5fd",
     "showTitle": false,
     "tableResultSettingsMap": {},
     "title": ""
    }
   },
   "source": [
    "## AUTO LOADER LAKEFLOW CONNECT\n",
    "\n",
    "Databricks Auto Loader with LakeFlow Connect enables seamless, scalable, and incremental ingestion of data from cloud storage into Delta Lake tables. Auto Loader automatically detects new files as they arrive in your data lake and efficiently loads them into your target tables, minimizing manual intervention and operational overhead.\n",
    "\n",
    "### KEY FEATURES:\n",
    "- **Incremental Processing:** Only new files are processed, reducing compute costs.\n",
    "- **Schema Evolution:** Automatically handles changes in data schema.\n",
    "- **Scalability:** Efficiently processes large volumes of data with minimal latency.\n",
    "- **Integration with LakeFlow:** Easily orchestrate and monitor ingestion pipelines using LakeFlow's visual interface and automation capabilities.\n",
    "\n",
    "### TYPICAL WORKFLOW:\n",
    "1. Configure Auto Loader to monitor a cloud storage path.\n",
    "2. Use LakeFlow Connect to define and schedule ingestion pipelines.\n",
    "3. Data is incrementally loaded into Delta Lake tables for downstream analytics.\n",
    "\n",
    "For more details, refer to the [Databricks Auto Loader documentation](https://docs.databricks.com/en/ingestion/auto-loader/index.html)."
   ]
  },
  {
   "cell_type": "code",
   "execution_count": 0,
   "metadata": {
    "application/vnd.databricks.v1+cell": {
     "cellMetadata": {},
     "inputWidgets": {},
     "nuid": "e0cc1f60-397e-49c9-a262-fdd8d5a9d1d7",
     "showTitle": false,
     "tableResultSettingsMap": {},
     "title": ""
    }
   },
   "outputs": [],
   "source": []
  }
 ],
 "metadata": {
  "application/vnd.databricks.v1+notebook": {
   "computePreferences": null,
   "dashboards": [],
   "environmentMetadata": {
    "base_environment": "",
    "environment_version": "4"
   },
   "inputWidgetPreferences": null,
   "language": "python",
   "notebookMetadata": {
    "pythonIndentUnit": 4
   },
   "notebookName": "GetStartedWithDatabricksEngineering_LakeFlowConnectTechniques_06_12",
   "widgets": {}
  },
  "language_info": {
   "name": "python"
  }
 },
 "nbformat": 4,
 "nbformat_minor": 0
}